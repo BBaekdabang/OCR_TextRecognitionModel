{
  "cells": [
    {
      "cell_type": "markdown",
      "metadata": {
        "id": "hU7sdNrFZV4r"
      },
      "source": [
        "## Create LMDB Dataset"
      ]
    },
    {
      "cell_type": "code",
      "execution_count": null,
      "metadata": {
        "colab": {
          "base_uri": "https://localhost:8080/"
        },
        "id": "0QigVHSeZV4s",
        "outputId": "3b972f28-c5bd-4bd1-fcbd-636b6ae0d844"
      },
      "outputs": [
        {
          "output_type": "stream",
          "name": "stdout",
          "text": [
            "Looking in indexes: https://pypi.org/simple, https://us-python.pkg.dev/colab-wheels/public/simple/\n",
            "Collecting fire\n",
            "  Downloading fire-0.5.0.tar.gz (88 kB)\n",
            "\u001b[2K     \u001b[90m━━━━━━━━━━━━━━━━━━━━━━━━━━━━━━━━━━━━━━━━\u001b[0m \u001b[32m88.3/88.3 KB\u001b[0m \u001b[31m10.0 MB/s\u001b[0m eta \u001b[36m0:00:00\u001b[0m\n",
            "\u001b[?25h  Preparing metadata (setup.py) ... \u001b[?25l\u001b[?25hdone\n",
            "Requirement already satisfied: six in /usr/local/lib/python3.8/dist-packages (from fire) (1.15.0)\n",
            "Requirement already satisfied: termcolor in /usr/local/lib/python3.8/dist-packages (from fire) (2.1.1)\n",
            "Building wheels for collected packages: fire\n",
            "  Building wheel for fire (setup.py) ... \u001b[?25l\u001b[?25hdone\n",
            "  Created wheel for fire: filename=fire-0.5.0-py2.py3-none-any.whl size=116949 sha256=ace641c5264ae18e90324e8b24a4b7e6febc209b2c2af20d924febee1d04ef99\n",
            "  Stored in directory: /root/.cache/pip/wheels/5b/eb/43/7295e71293b218ddfd627f935229bf54af9018add7fbb5aac6\n",
            "Successfully built fire\n",
            "Installing collected packages: fire\n",
            "Successfully installed fire-0.5.0\n"
          ]
        }
      ],
      "source": [
        "try:\n",
        "    import lmdb\n",
        "except ImportError:\n",
        "    %pip install lmdb\n",
        "    import lmdb\n",
        "\n",
        "try:\n",
        "    from tqdm import tqdm\n",
        "except ImportError:\n",
        "    %pip install tqdm\n",
        "    from tqdm import tqdm\n",
        "try:\n",
        "    import fire\n",
        "except ImportError:\n",
        "    %pip install fire\n",
        "    import fire"
      ]
    },
    {
      "cell_type": "code",
      "execution_count": null,
      "metadata": {
        "id": "9qQmlCKOZV4t"
      },
      "outputs": [],
      "source": [
        "# save dir 생성\n",
        "train_dir = 'train_lmdb'\n",
        "val_dir = 'val_lmdb'\n",
        "os.makedirs(train_dir, exist_ok=True)\n",
        "os.makedirs(val_dir, exist_ok=True)"
      ]
    },
    {
      "cell_type": "code",
      "execution_count": null,
      "metadata": {
        "id": "ZvWkOscPZV4t"
      },
      "outputs": [],
      "source": [
        "def write_cache(env, cache):\n",
        "    with env.begin(write=True) as txn:\n",
        "        for k, v in cache.items():\n",
        "            txn.put(k, v)"
      ]
    },
    {
      "cell_type": "code",
      "execution_count": null,
      "metadata": {
        "id": "2Y7KHhssZV4u"
      },
      "outputs": [],
      "source": [
        "def write_lmdb(df, env, bar_desc='train'):\n",
        "    cnt = 1\n",
        "    cache = {}\n",
        "    for i in tqdm(range(len(df)), desc=bar_desc):\n",
        "        img_path = df.iloc[i]['img_path']\n",
        "        label = df.iloc[i]['label']\n",
        "        \n",
        "        with open(img_path, 'rb') as f:\n",
        "            img_bin = f.read()\n",
        "        \n",
        "        image_key = f'image-{cnt:09d}'.encode()\n",
        "        label_key = f'label-{cnt:09d}'.encode()\n",
        "\n",
        "        cache[image_key] = img_bin\n",
        "        cache[label_key] = label.encode()\n",
        "\n",
        "        if cnt % 1000 == 0:\n",
        "            write_cache(env, cache)\n",
        "            cache = {}\n",
        "        cnt += 1\n",
        "\n",
        "    # remain cache\n",
        "    cache['num-samples'.encode()] = str(cnt-1).encode()\n",
        "    write_cache(env, cache)"
      ]
    },
    {
      "cell_type": "code",
      "execution_count": null,
      "metadata": {
        "id": "6hLtON2EZV4u"
      },
      "outputs": [],
      "source": [
        "def create_and_write_lmdb():\n",
        "    env_train = lmdb.open(train_dir, map_size=1099511627776)\n",
        "    env_val = lmdb.open(val_dir, map_size=1099511627776)\n",
        "\n",
        "    write_lmdb(train, env_train, bar_desc='train')\n",
        "    write_lmdb(val, env_val, bar_desc='val'))\n",
        "\n",
        "    env_train.close()\n",
        "    env_val.close()"
      ]
    },
    {
      "cell_type": "code",
      "execution_count": null,
      "metadata": {
        "colab": {
          "base_uri": "https://localhost:8080/"
        },
        "id": "6IjdQEvCZV4v",
        "outputId": "7ab14e70-6046-4965-ca00-38064c7edffe"
      },
      "outputs": [
        {
          "output_type": "stream",
          "name": "stderr",
          "text": [
            "test: 100%|██████████| 74121/74121 [00:19<00:00, 3864.93it/s]\n"
          ]
        }
      ],
      "source": [
        "fire.Fire(create_and_write_lmdb, command='')"
      ]
    },
    {
      "cell_type": "markdown",
      "metadata": {
        "id": "80JDkuRmZV4v"
      },
      "source": [
        "## 생성이 잘 되었는지 체크"
      ]
    },
    {
      "cell_type": "code",
      "execution_count": null,
      "metadata": {
        "id": "3PcN94RSZV4v"
      },
      "outputs": [],
      "source": [
        "import cv2\n",
        "import matplotlib.pyplot as plt\n",
        "\n",
        "lmdb.open(test_dir, readonly=True, lock=False).stat()\n",
        "\n",
        "# lmdb read\n",
        "env = lmdb.open(test_dir, readonly=True, lock=False)\n",
        "txn = env.begin()\n",
        "label = txn.get('label-000000001'.encode()).decode()\n",
        "img = cv2.imdecode(np.frombuffer(txn.get('image-000000001'.encode()), dtype=np.uint8), cv2.IMREAD_COLOR)\n",
        "print(label)\n",
        "plt.imshow(img)\n"
      ]
    }
  ],
  "metadata": {
    "kernelspec": {
      "display_name": "parseq",
      "language": "python",
      "name": "python3"
    },
    "language_info": {
      "codemirror_mode": {
        "name": "ipython",
        "version": 3
      },
      "file_extension": ".py",
      "mimetype": "text/x-python",
      "name": "python",
      "nbconvert_exporter": "python",
      "pygments_lexer": "ipython3",
      "version": "3.8.10"
    },
    "orig_nbformat": 4,
    "vscode": {
      "interpreter": {
        "hash": "6f8f996b3d7939c6072b6893f961750295caef016488456ad59cadf2257c7c6b"
      }
    },
    "colab": {
      "provenance": []
    }
  },
  "nbformat": 4,
  "nbformat_minor": 0
}